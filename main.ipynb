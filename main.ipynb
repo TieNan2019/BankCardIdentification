{
 "cells": [
  {
   "cell_type": "code",
   "execution_count": 1,
   "metadata": {},
   "outputs": [],
   "source": [
    "import cv2\n",
    "import numpy as np\n",
    "\n",
    "import os"
   ]
  },
  {
   "cell_type": "code",
   "execution_count": 2,
   "metadata": {},
   "outputs": [],
   "source": [
    "templates_orig = cv2.imread(\"template.png\")\n",
    "templates = cv2.cvtColor(templates_orig, cv2.COLOR_BGR2GRAY)"
   ]
  },
  {
   "cell_type": "code",
   "execution_count": 3,
   "metadata": {},
   "outputs": [],
   "source": [
    "def show(img, title=\"show\", wait=0):\n",
    "    cv2.imshow(title, img)\n",
    "    cv2.waitKey(0)\n",
    "    cv2.destroyAllWindows()"
   ]
  },
  {
   "cell_type": "markdown",
   "metadata": {},
   "source": [
    "## 模板提取"
   ]
  },
  {
   "cell_type": "code",
   "execution_count": 4,
   "metadata": {},
   "outputs": [],
   "source": [
    "# 二值化处理，并对像素去反相\n",
    "_, temp_threshold = cv2.threshold(templates, 127, 255, cv2.THRESH_BINARY_INV)\n",
    "# 搜索轮廓\n",
    "temp_contours, _ = cv2.findContours(temp_threshold, cv2.RETR_EXTERNAL, cv2.CHAIN_APPROX_NONE)"
   ]
  },
  {
   "cell_type": "code",
   "execution_count": 5,
   "metadata": {},
   "outputs": [],
   "source": [
    "show(temp_threshold)"
   ]
  },
  {
   "cell_type": "code",
   "execution_count": 6,
   "metadata": {},
   "outputs": [],
   "source": [
    "# 求取模板的 bounding-box\n",
    "temp_bounding_boxes = [cv2.boundingRect(contour) for contour in temp_contours]"
   ]
  },
  {
   "cell_type": "code",
   "execution_count": 7,
   "metadata": {},
   "outputs": [],
   "source": [
    "# 对坐标进行编码\n",
    "temp_bounding_boxes.reverse()"
   ]
  },
  {
   "cell_type": "code",
   "execution_count": 8,
   "metadata": {},
   "outputs": [
    {
     "data": {
      "text/plain": [
       "[(14, 20, 55, 86),\n",
       " (93, 20, 55, 86),\n",
       " (173, 20, 55, 86),\n",
       " (252, 20, 55, 86),\n",
       " (338, 20, 49, 86),\n",
       " (411, 20, 55, 86),\n",
       " (491, 20, 55, 86),\n",
       " (571, 20, 54, 86),\n",
       " (650, 20, 55, 86),\n",
       " (730, 20, 54, 86)]"
      ]
     },
     "execution_count": 8,
     "metadata": {},
     "output_type": "execute_result"
    }
   ],
   "source": [
    "temp_bounding_boxes"
   ]
  },
  {
   "cell_type": "code",
   "execution_count": 35,
   "metadata": {},
   "outputs": [
    {
     "data": {
      "text/plain": [
       "[53.5, 133.0, 212.5, 295.0, 374.5, 451.0, 531.0, 610.5, 690.0]"
      ]
     },
     "execution_count": 35,
     "metadata": {},
     "output_type": "execute_result"
    }
   ],
   "source": [
    "regions = []\n",
    "\n",
    "for i in range(len(temp_bounding_boxes)-1):\n",
    "    boundary = (temp_bounding_boxes[i][0] + temp_bounding_boxes[i+1][0]) / 2\n",
    "    regions.append(boundary)\n",
    "    \n",
    "regions"
   ]
  },
  {
   "cell_type": "code",
   "execution_count": 36,
   "metadata": {},
   "outputs": [],
   "source": [
    "def identify(loc):\n",
    "    num = 9\n",
    "    for index, boundary in enumerate(regions):\n",
    "        if loc < boundary:\n",
    "            num = index\n",
    "            break\n",
    "        \n",
    "    return num"
   ]
  },
  {
   "cell_type": "code",
   "execution_count": 10,
   "metadata": {},
   "outputs": [],
   "source": [
    "# 查看轮廓的提取效果\n",
    "tmp = templates_orig.copy()\n",
    "tmp = cv2.drawContours(tmp, temp_contours, 0, (0, 0, 255), 2)\n",
    "\n",
    "show(tmp)"
   ]
  },
  {
   "cell_type": "code",
   "execution_count": 11,
   "metadata": {},
   "outputs": [],
   "source": [
    "# 查看 bounding_box\n",
    "tmp = templates_orig.copy()\n",
    "\n",
    "for x, y, w, h in temp_bounding_boxes:\n",
    "    cv2.rectangle(tmp, (x, y), (x+w, y+h), (0, 255, 0), 2)\n",
    "    \n",
    "show(tmp)"
   ]
  },
  {
   "cell_type": "markdown",
   "metadata": {},
   "source": [
    "## 目标账号识别"
   ]
  },
  {
   "cell_type": "code",
   "execution_count": 107,
   "metadata": {},
   "outputs": [],
   "source": [
    "path = \"images/credit_card_05.png\"\n",
    "\n",
    "card_img = cv2.resize(cv2.imread(path), (580, 370))\n",
    "# target = cv2.Canny(img, 120, 150)\n",
    "card_gray = cv2.cvtColor(card_img, cv2.COLOR_BGR2GRAY)\n",
    "_, card_binary = cv2.threshold(card_gray, 175, 255, cv2.THRESH_BINARY)\n",
    "\n",
    "# show(card_binary)"
   ]
  },
  {
   "cell_type": "code",
   "execution_count": 108,
   "metadata": {},
   "outputs": [],
   "source": [
    "card_mask = np.zeros(card_binary.shape, np.uint8)\n",
    "card_mask[30:340, 30:550] = 255\n",
    "\n",
    "card_masked = cv2.bitwise_and(card_binary, card_mask)\n",
    "\n",
    "# show(masked)"
   ]
  },
  {
   "cell_type": "code",
   "execution_count": 109,
   "metadata": {},
   "outputs": [],
   "source": [
    "# 先腐蚀再膨胀，去较小的字体\n",
    "conv_kernel = np.ones((9, 9), np.uint8)\n",
    "opened = cv2.morphologyEx(card_masked, cv2.MORPH_OPEN, conv_kernel)\n",
    "\n",
    "# 礼帽操作，强化边缘\n",
    "conv_kernel = np.ones((7, 7), np.uint8)\n",
    "tophat = cv2.morphologyEx(card_masked-opened, cv2.MORPH_TOPHAT, conv_kernel)\n",
    "\n",
    "\"\"\"# 先腐蚀再膨胀，去较小的字体\n",
    "conv_kernel = np.ones((3, 3), np.uint8)\n",
    "opened_ag = cv2.morphologyEx(tophat, cv2.MORPH_OPEN, conv_kernel)\n",
    "\n",
    "# 腐蚀操作\n",
    "conv_kernel = np.ones((3, 3), np.uint8)\n",
    "eroded = cv2.erode(tophat,  conv_kernel, iterations=1)\n",
    "\"\"\"\n",
    "\n",
    "# 膨胀，将数字块连到一起\n",
    "conv_kernel = np.ones((1, 21), np.uint8)\n",
    "dilated = cv2.dilate(tophat, conv_kernel, iterations=3)\n",
    "\n",
    "\n",
    "# 先膨胀再腐蚀，填充卡号字段的噪点\n",
    "conv_kernel = np.ones((5, 5), np.uint8)\n",
    "closed = cv2.morphologyEx(dilated, cv2.MORPH_CLOSE, conv_kernel)\n",
    "\n",
    "# 对比效果\n",
    "top = np.hstack((card_masked, opened, card_masked-opened))\n",
    "bottom = np.hstack((tophat, dilated, closed))\n",
    "preprocess = np.vstack((top, bottom))\n",
    "# show(preprocess)"
   ]
  },
  {
   "cell_type": "code",
   "execution_count": 110,
   "metadata": {},
   "outputs": [],
   "source": [
    "# 进行边缘提取\n",
    "card_contours, _ = cv2.findContours(closed, cv2.RETR_EXTERNAL, cv2.CHAIN_APPROX_NONE)"
   ]
  },
  {
   "cell_type": "code",
   "execution_count": 111,
   "metadata": {},
   "outputs": [],
   "source": [
    "# 检查边界提取情况\n",
    "with_contours = card_img.copy()\n",
    "cv2.drawContours(with_contours, card_contours, -1, (0, 255, 0), 1)\n",
    "show(with_contours)"
   ]
  },
  {
   "cell_type": "code",
   "execution_count": 112,
   "metadata": {},
   "outputs": [],
   "source": [
    "card_bounding_boxes = [cv2.boundingRect(contour) for contour in card_contours]\n",
    "\n",
    "w_downer_limit = 440\n",
    "h_downer_limit = 18\n",
    "h_upper_limit = 40\n",
    "\n",
    "card_number_boxes = []\n",
    "for x, y, w, h in card_bounding_boxes:\n",
    "    if w < w_downer_limit or h < h_downer_limit or h > h_upper_limit:\n",
    "        continue\n",
    "    \n",
    "    card_number_boxes.append((x, y, w, h))"
   ]
  },
  {
   "cell_type": "code",
   "execution_count": 113,
   "metadata": {},
   "outputs": [],
   "source": [
    "# 若存在多个或者不存在 RoI ，则说明提取失败\n",
    "assert len(card_number_boxes) == 1"
   ]
  },
  {
   "cell_type": "code",
   "execution_count": 114,
   "metadata": {},
   "outputs": [],
   "source": [
    "# 检查账号提取情况\n",
    "with_bounding_boxes = card_img.copy()\n",
    "for x, y, w, h in card_number_boxes:\n",
    "    cv2.rectangle(with_bounding_boxes, (x, y), (x+w, y+h), (0, 255, 0), 1)\n",
    "\n",
    "show(with_bounding_boxes)"
   ]
  },
  {
   "cell_type": "markdown",
   "metadata": {},
   "source": [
    "## 提取卡号部分"
   ]
  },
  {
   "cell_type": "code",
   "execution_count": 115,
   "metadata": {},
   "outputs": [],
   "source": [
    "# 提取卡号序列的 ROI\n",
    "seq_x, seq_y, seq_width, seq_height = card_number_boxes[0]\n",
    "\n",
    "id_img = card_img[seq_y:seq_y+seq_height, seq_x:seq_x+seq_width]\n",
    "id_gray = cv2.cvtColor(id_img, cv2.COLOR_BGR2GRAY)\n",
    "_, id_binary = cv2.threshold(id_gray, 160, 255, cv2.THRESH_BINARY)"
   ]
  },
  {
   "cell_type": "code",
   "execution_count": 116,
   "metadata": {},
   "outputs": [],
   "source": [
    "id_padding = 10\n",
    "padded_x = seq_x - id_padding\n",
    "padded_y = seq_y - id_padding\n",
    "padded_width = seq_width + 2 * id_padding\n",
    "padded_height = seq_height + 2 * id_padding\n",
    "\n",
    "id_mask = np.zeros((padded_height, padded_width), dtype=np.uint8)\n",
    "id_mask[id_padding:-id_padding, id_padding:-id_padding] = id_binary"
   ]
  },
  {
   "cell_type": "code",
   "execution_count": 117,
   "metadata": {},
   "outputs": [],
   "source": [
    "# 优化数字显示\n",
    "conv_kernel = np.ones((2, 2), np.uint8)\n",
    "dilated_id = cv2.dilate(id_mask, conv_kernel, iterations=1)\n",
    "# dilated_id = cv2.morphologyEx(id_mask, cv2.MORPH_OPEN, conv_kernel)\n",
    "# dilated_id = id_mask\n",
    "# show(dilated_id)"
   ]
  },
  {
   "cell_type": "code",
   "execution_count": 118,
   "metadata": {},
   "outputs": [],
   "source": [
    "# 从账号区提取数字\n",
    "card_id_contours, _ = cv2.findContours(dilated_id, cv2.RETR_EXTERNAL, cv2.CHAIN_APPROX_NONE)\n",
    "id_bounding_boxes  = [cv2.boundingRect(contour) for contour in card_id_contours]"
   ]
  },
  {
   "cell_type": "code",
   "execution_count": 119,
   "metadata": {},
   "outputs": [],
   "source": [
    "# 检查数字轮廓提取情况\n",
    "with_contours = card_img.copy()[padded_y:padded_y+padded_height, padded_x:padded_x+padded_width]\n",
    "with_contours = cv2.drawContours(with_contours, card_id_contours,-1, (0, 255, 0), 1)\n",
    "\n",
    "show(with_contours)"
   ]
  },
  {
   "cell_type": "code",
   "execution_count": 120,
   "metadata": {},
   "outputs": [],
   "source": [
    "# 检查数字bounding-box提取情况\n",
    "with_bounding_boxes = card_img.copy()[padded_y:padded_y+padded_height, padded_x:padded_x+padded_width]\n",
    "\n",
    "for x, y, w, h in id_bounding_boxes:\n",
    "    cv2.rectangle(with_bounding_boxes, (x, y), (x+w, y+h), (0, 255, 0), 1)\n",
    "\n",
    "show(with_bounding_boxes)"
   ]
  },
  {
   "cell_type": "code",
   "execution_count": 121,
   "metadata": {
    "scrolled": true
   },
   "outputs": [
    {
     "name": "stdout",
     "output_type": "stream",
     "text": [
      "卡号 : 5476767898765432\n"
     ]
    }
   ],
   "source": [
    "# 模板匹配\n",
    "number_padding = 5\n",
    "\n",
    "id_seq = []\n",
    "for x, y, w, h in id_bounding_boxes:\n",
    "#     x -= number_padding\n",
    "#     y -= number_padding\n",
    "#     w += 2 * number_padding\n",
    "#     h += 2 * number_padding\n",
    "    num = dilated_id[y:y+h, x:x+w]\n",
    "    num = cv2.resize(num, (55, 86))\n",
    "    \n",
    "    # 模板匹配\n",
    "    matches = cv2.matchTemplate(temp_threshold, num, cv2.TM_CCOEFF_NORMED)\n",
    "\n",
    "    # 搜索最佳匹配项\n",
    "    min_val, max_val, min_loc, (max_loc, _) = cv2.minMaxLoc(matches)\n",
    "\n",
    "#     show(num)\n",
    "    res = identify(max_loc)\n",
    "    \n",
    "    id_seq.append(str(res))\n",
    "    \n",
    "id_seq.reverse()\n",
    "print(\"卡号 :\", \"\".join(id_seq))\n",
    "show(card_img)"
   ]
  }
 ],
 "metadata": {
  "kernelspec": {
   "display_name": "Python 3",
   "language": "python",
   "name": "python3"
  },
  "language_info": {
   "codemirror_mode": {
    "name": "ipython",
    "version": 3
   },
   "file_extension": ".py",
   "mimetype": "text/x-python",
   "name": "python",
   "nbconvert_exporter": "python",
   "pygments_lexer": "ipython3",
   "version": "3.7.3"
  }
 },
 "nbformat": 4,
 "nbformat_minor": 4
}
